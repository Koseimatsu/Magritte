{
 "cells": [
  {
   "cell_type": "code",
   "execution_count": 1,
   "metadata": {},
   "outputs": [],
   "source": [
    "import numpy             as np\n",
    "import matplotlib.pyplot as plt\n",
    "import itertools\n",
    "\n",
    "from scipy.spatial import cKDTree\n",
    "from scipy         import sparse\n",
    "from scipy.sparse  import linalg as sparse_linalg\n",
    "from numba         import njit"
   ]
  },
  {
   "cell_type": "code",
   "execution_count": 2,
   "metadata": {},
   "outputs": [],
   "source": [
    "dimension = 1\n",
    "npoints   = 5\n",
    "nfreqs    = 1\n",
    "nrays     = 1\n",
    "nboundary = 1"
   ]
  },
  {
   "cell_type": "code",
   "execution_count": 3,
   "metadata": {},
   "outputs": [],
   "source": [
    "boundary2point = np.array([0])\n",
    "point2boundary = np.array([npoints for _ in range(npoints)])\n",
    "point2boundary[0] = 0\n",
    "\n",
    "rs     = np.array([i for i in range(npoints)])\n",
    "xs_blk = np.array([[r,0,0] for r in rs])\n",
    "xs_bdy = xs_blk[boundary2point]\n",
    "xs     = xs_blk[:,:dimension]\n",
    "\n",
    "eta                = np.array([[1.0] for _ in range(npoints  )])\n",
    "chi                = np.array([[1.0] for _ in range(npoints  )])\n",
    "boundary_condition = np.array([[1.0] for _ in range(nboundary)])\n",
    "boundary_normal    = np.array([[-1.0, 0.0, 0.0]])"
   ]
  },
  {
   "cell_type": "code",
   "execution_count": 4,
   "metadata": {},
   "outputs": [],
   "source": [
    "ncp = 3 #npoints #64\n",
    "\n",
    "dis_blk, red_blk = cKDTree(xs_blk).query(xs_blk, ncp)\n",
    "dis_bdy, red_bdy = cKDTree(xs_bdy).query(xs_bdy, ncp)\n",
    "\n",
    "dis_bdy = dis_bdy[:,:nboundary]\n",
    "red_bdy = red_bdy[:,:nboundary]\n",
    "\n",
    "dis_blk = dis_blk[:,:npoints]\n",
    "red_blk = red_blk[:,:npoints]"
   ]
  },
  {
   "cell_type": "code",
   "execution_count": 5,
   "metadata": {},
   "outputs": [
    {
     "data": {
      "text/plain": [
       "<matplotlib.image.AxesImage at 0x7fb70c847518>"
      ]
     },
     "execution_count": 5,
     "metadata": {},
     "output_type": "execute_result"
    },
    {
     "data": {
      "image/png": "[encoded data removed]",
      "text/plain": [
       "<Figure size 432x288 with 1 Axes>"
      ]
     },
     "metadata": {
      "needs_background": "light"
     },
     "output_type": "display_data"
    }
   ],
   "source": [
    "mat = np.zeros((npoints, npoints))\n",
    "for i, ids in enumerate(red_blk):\n",
    "    for j in ids:\n",
    "        mat[i,j] = 1.0\n",
    "plt.imshow(mat)"
   ]
  },
  {
   "cell_type": "code",
   "execution_count": 6,
   "metadata": {},
   "outputs": [
    {
     "data": {
      "text/plain": [
       "array([[0, 1, 2],\n",
       "       [1, 2, 0],\n",
       "       [2, 3, 1],\n",
       "       [3, 4, 2],\n",
       "       [4, 3, 2]])"
      ]
     },
     "execution_count": 6,
     "metadata": {},
     "output_type": "execute_result"
    }
   ],
   "source": [
    "red_blk"
   ]
  },
  {
   "cell_type": "code",
   "execution_count": 7,
   "metadata": {},
   "outputs": [],
   "source": [
    "@njit\n",
    "def get_neighbors(i):\n",
    "    if   (i == 0):\n",
    "        return [1]\n",
    "    elif (i == npoints-1):\n",
    "        return [npoints-2]\n",
    "    else:\n",
    "        return [i-1, i+1]"
   ]
  },
  {
   "cell_type": "code",
   "execution_count": 8,
   "metadata": {},
   "outputs": [],
   "source": [
    "def get_hs_stats():\n",
    "    \"\"\"\n",
    "    Returns for each point the distance to its farthest neighbour,\n",
    "    and the average distance to all its neighbours.\n",
    "    \"\"\"\n",
    "    # Initialize a new array\n",
    "    hs_min  = np.zeros(npoints)\n",
    "    hs_mean = np.zeros(npoints)\n",
    "    # Loop over all points\n",
    "    for i in range(npoints):\n",
    "        # Get distances to neighbours.\n",
    "        dist = np.linalg.norm(xs[i] - xs[get_neighbors(i)], axis=1)\n",
    "        hs_min [i] = np.max (dist)\n",
    "        hs_mean[i] = np.mean(dist)\n",
    "    return hs_min, hs_mean"
   ]
  },
  {
   "cell_type": "code",
   "execution_count": 9,
   "metadata": {},
   "outputs": [],
   "source": [
    "hs_min, hs_mean = get_hs_stats()"
   ]
  },
  {
   "cell_type": "markdown",
   "metadata": {},
   "source": [
    "Computing the gradient based on nearest neighbor information based on Meyer, Eriksson, and Maggio (2001).\n",
    "For a point at position $\\textbf{x}_{i}$, and nearest neighbors $\\textbf{x}_{j}$, we can observe that\n",
    "\\begin{equation}\n",
    "f_{j} - f_{i} \\ = \\ \\left(\\textbf{x}_{j} - \\textbf{x}_{i} \\right) \\cdot \\nabla f_{i}\n",
    "\\end{equation}\n",
    "\n",
    "\\begin{equation}\n",
    "\\Delta f \\ = \\ \\Delta \\textbf{x} \\cdot \\nabla f\n",
    "\\end{equation}\n",
    "\n",
    "\\begin{equation}\n",
    "\\nabla f \\ = \\\n",
    "\\left( \\Delta \\textbf{x} ^{\\text{T}} \\Delta \\textbf{x} \\right)^{-1} \\ \\Delta \\textbf{x}^{\\text{T}} \\Delta f\n",
    "\\end{equation}"
   ]
  },
  {
   "cell_type": "code",
   "execution_count": 10,
   "metadata": {},
   "outputs": [],
   "source": [
    "def get_grad(ys, xs):\n",
    "    # Initialize a new array\n",
    "    grad_ys = np.zeros(xs.shape)\n",
    "    # In 1D use basic finite difference.    \n",
    "    if (xs.shape[1] == 1):\n",
    "        # Unpack xs\n",
    "        xs = xs[:,0]\n",
    "        # Finite difference\n",
    "        dy = np.diff(ys)\n",
    "        dx = np.diff(xs)\n",
    "        # Go to second order.\n",
    "        dy1 = np.concatenate((dy,      [dy[-1]]))\n",
    "        dy2 = np.concatenate(([dy[0]], dy      ))\n",
    "        dx1 = np.concatenate((dx,      [dx[-1]]))\n",
    "        dx2 = np.concatenate(([dx[0]], dx      ))\n",
    "        # Compose gradient.\n",
    "        grad_ys = (dy1 + dy2) / (dx1 + dx2)\n",
    "    # In 2D & 3D use Meyer, Eriksson, and Maggio (2001).\n",
    "    else:\n",
    "        # Loop over all points.\n",
    "        for i in range(npoints):\n",
    "            nb = get_neighbors(i)\n",
    "            dx = xs[i] - xs[nb]\n",
    "            dy = ys[i] - ys[nb]\n",
    "            grad_ys[i] = np.matmul(np.linalg.inv(np.matmul(dx.T, dx)), np.matmul(dx.T, dy))        \n",
    "    # return grad\n",
    "    return grad_ys"
   ]
  },
  {
   "cell_type": "code",
   "execution_count": 11,
   "metadata": {},
   "outputs": [],
   "source": [
    "# Define the (tabulated) scale function\n",
    "hs = 4.5*hs_min\n",
    "\n",
    "# Get the gradient of the log of the (tabulated) scale function \n",
    "dlog_hs = get_grad(np.log10(hs), xs)"
   ]
  },
  {
   "cell_type": "code",
   "execution_count": 12,
   "metadata": {},
   "outputs": [
    {
     "data": {
      "text/plain": [
       "[<matplotlib.lines.Line2D at 0x7fb7040ffb00>]"
      ]
     },
     "execution_count": 12,
     "metadata": {},
     "output_type": "execute_result"
    },
    {
     "data": {
      "image/png": "[encoded data removed]",
      "text/plain": [
       "<Figure size 660x440 with 1 Axes>"
      ]
     },
     "metadata": {
      "needs_background": "light"
     },
     "output_type": "display_data"
    }
   ],
   "source": [
    "plt.figure(dpi=110)\n",
    "plt.plot(np.linalg.norm(xs_blk, axis=1), hs_min)\n",
    "plt.plot(np.linalg.norm(xs_blk, axis=1), hs)\n",
    "# plt.xscale('log')\n",
    "# plt.yscale('log')"
   ]
  },
  {
   "cell_type": "code",
   "execution_count": 13,
   "metadata": {},
   "outputs": [],
   "source": [
    "@njit\n",
    "def RBF_hexp(r):\n",
    "    \"\"\"\n",
    "    Minus half exponential kernel.\n",
    "    \"\"\"\n",
    "    # Ensure to take the absolute value\n",
    "    rr = np.abs(r)\n",
    "    # Compute hexp kernel\n",
    "    return np.exp(-0.5*rr)\n",
    "\n",
    "@njit\n",
    "def grad_RBF_hexp(r):\n",
    "    return -0.50 * RBF_hexp(r)\n",
    "\n",
    "@njit\n",
    "def grad2_RBF_hexp(r):\n",
    "    return +0.25 * RBF_hexp(r)"
   ]
  },
  {
   "cell_type": "markdown",
   "metadata": {},
   "source": [
    "Consider a kernel, $k$, of the form\n",
    "\\begin{equation}\n",
    "k(x,y) \\ = \\ K \\left( \\frac{\\|x - y\\|^2}{h(x) \\, h(y)} \\right).\n",
    "\\end{equation}\n",
    "Then one can compute\n",
    "\\begin{equation}\n",
    "\\partial_{y}k(x,y) \\ = \\ -\\frac{1}{h(x) \\, h(y)} \\left(2\\left(x-y\\right) + \\left(x-y\\right)^{2} \\partial_{y} \\log h(y)\\right) K' \\left( \\frac{\\|x - y\\|^2}{h(x) \\, h(y)} \\right).\n",
    "\\end{equation}"
   ]
  },
  {
   "cell_type": "code",
   "execution_count": 14,
   "metadata": {},
   "outputs": [],
   "source": [
    "# Define kernel\n",
    "KK       = RBF_hexp\n",
    "grad_KK  = grad_RBF_hexp\n",
    "grad2_KK = grad2_RBF_hexp"
   ]
  },
  {
   "cell_type": "code",
   "execution_count": 15,
   "metadata": {},
   "outputs": [
    {
     "data": {
      "text/plain": [
       "[<matplotlib.lines.Line2D at 0x7fb703f38a20>]"
      ]
     },
     "execution_count": 15,
     "metadata": {},
     "output_type": "execute_result"
    },
    {
     "data": {
      "image/png": "[encoded data removed]",
      "text/plain": [
       "<Figure size 432x288 with 1 Axes>"
      ]
     },
     "metadata": {
      "needs_background": "light"
     },
     "output_type": "display_data"
    }
   ],
   "source": [
    "x = np.linspace(-2, 2, 250)\n",
    "\n",
    "Ks   = [      KK(r) for r in x]\n",
    "gKs  = [ grad_KK(r) for r in x]\n",
    "g2Ks = [grad2_KK(r) for r in x]\n",
    "\n",
    "plt.plot(x,   Ks)\n",
    "plt.plot(x,  gKs)\n",
    "plt.plot(x, g2Ks)"
   ]
  },
  {
   "cell_type": "code",
   "execution_count": 16,
   "metadata": {},
   "outputs": [],
   "source": [
    "# @njit\n",
    "def kernel(i1, i2):\n",
    "    \"\"\"\n",
    "    k(x1,x2) = K(|x1-x2|^2 / h(x1)h(x2))\n",
    "    \"\"\"\n",
    "    d = xs[i1] - xs[i2]\n",
    "    r = np.dot(d,d) / (hs[i1] * hs[i2])\n",
    "    return KK(r)\n",
    "\n",
    "# @njit\n",
    "def d1_kernel(i1, i2):\n",
    "    \"\"\"\n",
    "    ∂k(x1,x2)/∂x2\n",
    "    \"\"\"\n",
    "    d = xs[i1] - xs[i2]\n",
    "    a = 1.0 / (hs[i1] * hs[i2])\n",
    "    r = np.dot(d,d) * a\n",
    "    return (-2.0*d*a - r*dlog_hs[i2]) * grad_KK(r)\n",
    "\n",
    "# @njit\n",
    "def d2_kernel(i1, i2):\n",
    "    \"\"\"\n",
    "    ∂k(x1,x2)/∂x1\n",
    "    \"\"\"\n",
    "    d = xs[i1] - xs[i2]\n",
    "    a = 1.0 / (hs[i1] * hs[i2])\n",
    "    r = np.dot(d,d) * a\n",
    "    return (+2.0*d*a - r*dlog_hs[i1]) * grad_KK(r)\n",
    "\n",
    "# @njit\n",
    "def d1d2_kernel(i1, i2):\n",
    "    \"\"\"\n",
    "    ∂∂k(x1,x2)/∂x1∂x2\n",
    "    \"\"\"\n",
    "    d = xs[i1] - xs[i2]\n",
    "    a = 1.0 / (hs[i1] * hs[i2])\n",
    "    r = np.dot(d,d) * a\n",
    "    term1 = - 2.0 * a * (1.0 + d*(dlog_hs[i2] - dlog_hs[i1])) \\\n",
    "            - r * dlog_hs[i1] * dlog_hs[i2] \n",
    "    term2 =  (+2.0*d*a - r*dlog_hs[i1]) \\\n",
    "            *(-2.0*d*a - r*dlog_hs[i2])\n",
    "    return term1*grad_KK(r) + term2*grad2_KK(r)"
   ]
  },
  {
   "cell_type": "code",
   "execution_count": 17,
   "metadata": {},
   "outputs": [],
   "source": [
    "# Specify dimensions of (sub-spaces of) the domain\n",
    "xdim_blk = [npoints,   nfreqs, nrays]\n",
    "xdim_bdy = [nboundary, nfreqs, nrays]\n",
    "# Specify dimensions of (sub-spaces of) the codomain\n",
    "ydim_blk = [1]\n",
    "ydim_bdy = [1]\n",
    "# Get total dims\n",
    "dims_blk = xdim_blk + ydim_blk\n",
    "dims_bdy = xdim_bdy + ydim_bdy\n",
    "# Initialize indices and reductions\n",
    "inds_blk = [np.arange(dim) for dim in dims_blk]\n",
    "inds_bdy = [np.arange(dim) for dim in dims_bdy]\n",
    "# (Optionally) specify reductions of sub-spaces\n",
    "# Set default for reductions\n",
    "REDS_blk = [np.arange(dim) for dim in dims_blk]\n",
    "def reds_blk(ii):\n",
    "    REDS_blk[0] = red_blk[ii[0]]\n",
    "    return REDS_blk\n",
    "REDS_bdy = [np.arange(dim) for dim in dims_bdy]\n",
    "def reds_bdy(ii):\n",
    "    REDS_bdy[0] = red_bdy[ii[0]]\n",
    "    return REDS_bdy\n",
    "# Get dimensions of linearised spaces\n",
    "dim_blk = np.prod(dims_blk)\n",
    "dim_bdy = np.prod(dims_bdy)\n",
    "dim_tot = dim_blk + dim_bdy\n",
    "# Get indices of linearised spaces\n",
    "linds_blk = np.arange(dim_blk).reshape(dims_blk)\n",
    "linds_bdy = np.arange(dim_bdy).reshape(dims_bdy)\n",
    "\n",
    "def bdy_2_blk(ii):\n",
    "    ii = list(ii)\n",
    "    ii[0] = boundary2point[ii[0]]\n",
    "    return tuple(ii)"
   ]
  },
  {
   "cell_type": "code",
   "execution_count": 18,
   "metadata": {},
   "outputs": [],
   "source": [
    "def get_datsize_S22():\n",
    "\n",
    "    # Set index\n",
    "    index = 0\n",
    "\n",
    "    for ii1_bdy in itertools.product(*inds_bdy):\n",
    "        ii1_blk = bdy_2_blk(ii1_bdy)\n",
    "        ii1     = linds_bdy[ii1_bdy]\n",
    "        for ii2_bdy in itertools.product(*reds_bdy(ii1_bdy)):    \n",
    "            ii2_blk = bdy_2_blk(ii2_bdy)\n",
    "            ii2     = linds_bdy[ii2_bdy]\n",
    "            if (ii1 <= ii2):\n",
    "                index += 1\n",
    "                if (ii1 < ii2):\n",
    "                    index += 1\n",
    "\n",
    "    for ii1_bdy in itertools.product(*inds_bdy):\n",
    "        ii1_blk = bdy_2_blk(ii1_bdy)\n",
    "        for ii2_blk in itertools.product(*reds_blk(ii1_blk)): \n",
    "            index += 2\n",
    "            \n",
    "    for ii1_blk in itertools.product(*inds_blk):\n",
    "        ii1 = linds_blk[ii1_blk] + dim_bdy\n",
    "        for ii2_blk in itertools.product(*reds_blk(ii1_blk)):\n",
    "            ii2 = linds_blk[ii2_blk] + dim_bdy\n",
    "            if (ii1 <= ii2):\n",
    "                index += 1\n",
    "                if (ii1 < ii2):\n",
    "                    index += 1\n",
    "                    \n",
    "    return index+1\n",
    "\n",
    "\n",
    "def get_datsize_S12():\n",
    "\n",
    "    # Set index\n",
    "    index = 0\n",
    "    \n",
    "    for ii1_bdy in itertools.product(*inds_bdy):\n",
    "        ii1_blk = bdy_2_blk(ii1_bdy)\n",
    "        ii1     = linds_bdy[ii1_bdy]\n",
    "        for ii2_blk in itertools.product(*reds_blk(ii1_blk)):\n",
    "            ii2 = linds_blk[ii2_blk]\n",
    "            index += 1\n",
    "\n",
    "    for ii1_blk in itertools.product(*inds_blk):\n",
    "        ii1 = linds_blk[ii1_blk]\n",
    "        for ii2_blk in itertools.product(*reds_blk(ii1_blk)):\n",
    "            ii2 = linds_blk[ii2_blk] + dim_bdy\n",
    "            index += 1\n",
    "                    \n",
    "    return index+1"
   ]
  },
  {
   "cell_type": "code",
   "execution_count": 19,
   "metadata": {},
   "outputs": [
    {
     "name": "stdout",
     "output_type": "stream",
     "text": [
      "S12 size: 19\n",
      "S22 size: 23\n"
     ]
    }
   ],
   "source": [
    "datsize_S22 = get_datsize_S22()\n",
    "datsize_S12 = get_datsize_S12()\n",
    "\n",
    "print('S12 size:', datsize_S12)\n",
    "print('S22 size:', datsize_S22)"
   ]
  },
  {
   "cell_type": "code",
   "execution_count": 20,
   "metadata": {},
   "outputs": [],
   "source": [
    "# @njit\n",
    "def k (ii1, ii2):\n",
    "    # Unpack indices\n",
    "    p1, p2 = ii1[0], ii2[0]\n",
    "    f1, f2 = ii1[1], ii2[1]\n",
    "    r1, r2 = ii1[2], ii2[2]\n",
    "    z1, z2 = ii1[3], ii2[3]\n",
    "    # Apply operator\n",
    "    return kernel(p1, p2)\n",
    "\n",
    "# @njit\n",
    "def B1_k(ii1, ii2):\n",
    "    \"\"\"\n",
    "    B1 k(x1,x2) = k(x1,x2)\n",
    "    \"\"\"\n",
    "    return k(ii1, ii2)\n",
    "\n",
    "# @njit\n",
    "def L1_k(ii1, ii2):\n",
    "    \"\"\"\n",
    "    L1 k(x1,x2) = (1 + ∇1/χ1) k(x1,x2)\n",
    "    \"\"\"\n",
    "    # Unpack indices\n",
    "    p1, p2 = ii1[0], ii2[0]\n",
    "    f1, f2 = ii1[1], ii2[1]\n",
    "    r1, r2 = ii1[2], ii2[2]\n",
    "    z1, z2 = ii1[3], ii2[3]\n",
    "    # Apply operator\n",
    "    return kernel(p1,p2) + d1_kernel(p1,p2) / chi[p1,f1]\n",
    "\n",
    "# @njit\n",
    "def B1B2_k(ii1, ii2):\n",
    "    \"\"\"\n",
    "    B1 B2 k(x1,x2) = k(x1,x2)\n",
    "    \"\"\"\n",
    "    return k(ii1, ii2)\n",
    "\n",
    "# @njit\n",
    "def L1B2_k(ii1, ii2):\n",
    "    \"\"\"\n",
    "    L1 B2 k(x1,x2) = L1 k(x1,x2)\n",
    "    \"\"\"\n",
    "    return L1_k(ii1,ii2)\n",
    "\n",
    "# @njit\n",
    "def L1L2_k(ii1, ii2):\n",
    "    \"\"\"\n",
    "    L1 L2 k(x1,x2) = (1 + ∇1/χ1) (1 + ∇2/χ2) k(x1,x2)\n",
    "    \"\"\"\n",
    "    # Unpack indices\n",
    "    p1, p2 = ii1[0], ii2[0]\n",
    "    f1, f2 = ii1[1], ii2[1]\n",
    "    r1, r2 = ii1[2], ii2[2]\n",
    "    z1, z2 = ii1[3], ii2[3]\n",
    "    # Apply operator\n",
    "    return         kernel(p1,p2)              \\\n",
    "            +   d2_kernel(p1,p2) / chi[p2,f2] \\\n",
    "            +   d1_kernel(p1,p2) / chi[p1,f1] \\\n",
    "            + d1d2_kernel(p1,p2) / chi[p1,f1] / chi[p2,f2]"
   ]
  },
  {
   "cell_type": "code",
   "execution_count": 21,
   "metadata": {},
   "outputs": [],
   "source": [
    "# # @njit\n",
    "# def B1_k(ii1, ii2):\n",
    "#     \"\"\"\n",
    "#     B1 k(x1,x2) = (1 + ∇1/χ1) k(x1,x2)\n",
    "#     \"\"\"\n",
    "#     # Unpack indices\n",
    "#     p1, p2 = ii1[0], ii2[0]\n",
    "#     f1, f2 = ii1[1], ii2[1]\n",
    "#     r1, r2 = ii1[2], ii2[2]\n",
    "#     z1, z2 = ii1[3], ii2[3]\n",
    "#     # Apply operator\n",
    "#     if (np.dot(boundary_normal[point2boundary[p1]], Rs[r1]) < 0.0):\n",
    "#         if (z2 == 0):\n",
    "#             return +kernel(p1,p2)\n",
    "#         else:\n",
    "#             return +kernel(p1,p2)\n",
    "#     else:\n",
    "#         if (z2 == 0):\n",
    "#             return +kernel(p1,p2)\n",
    "#         else:\n",
    "#             return -kernel(p1,p2)\n",
    "        \n",
    "# # @njit\n",
    "# def L1_k(ii1, ii2):\n",
    "#     \"\"\"\n",
    "#     L1 k(x1,x2) = (1 + ∇1/χ1) k(x1,x2)\n",
    "#     \"\"\"\n",
    "#     # Unpack indices\n",
    "#     p1, p2 = ii1[0], ii2[0]\n",
    "#     f1, f2 = ii1[1], ii2[1]\n",
    "#     r1, r2 = ii1[2], ii2[2]\n",
    "#     z1, z2 = ii1[3], ii2[3]\n",
    "#     # Apply operator\n",
    "#     if (z1 == 0):\n",
    "#         if (z2 == 0):\n",
    "#             return d1_kernel(p1,p2)\n",
    "#         else:\n",
    "#             return kernel(p1,p2)\n",
    "#     else:\n",
    "#         if (z2 == 0):\n",
    "#             return kernel(p1,p2)\n",
    "#         else:\n",
    "#             return d1_kernel(p1,p2)\n",
    "\n",
    "\n",
    "# # @njit\n",
    "# def B1B2_k(ii1, ii2):\n",
    "#     \"\"\"\n",
    "#     B1 B2 k(x1,x2) = (1 + ∇1/χ1) k(x1,x2)\n",
    "#     \"\"\"\n",
    "#     # Unpack indices\n",
    "#     p1, p2 = ii1[0], ii2[0]\n",
    "#     f1, f2 = ii1[1], ii2[1]\n",
    "#     r1, r2 = ii1[2], ii2[2]\n",
    "#     z1, z2 = ii1[3], ii2[3]\n",
    "#     # Apply operator\n",
    "#     if (np.dot(boundary_normal[point2boundary[p1]], Rs[r1]) < 0.0):\n",
    "#         if (z2 == 0):\n",
    "#             return 2.0 * kernel(p1,p2)\n",
    "#         else:\n",
    "#             return 0.0\n",
    "#     else:\n",
    "#         if (z2 == 0):\n",
    "#             return 0.0\n",
    "#         else:\n",
    "#             return 2.0 * kernel(p1,p2)\n",
    "\n",
    "# # @njit\n",
    "# def L1B2_k(ii1, ii2):\n",
    "#     \"\"\"\n",
    "#     L1 B2 k(x1,x2) = (1 + ∇1/χ1) k(x1,x2)\n",
    "#     \"\"\"\n",
    "#     # Unpack indices\n",
    "#     p1, p2 = ii1[0], ii2[0]\n",
    "#     f1, f2 = ii1[1], ii2[1]\n",
    "#     r1, r2 = ii1[2], ii2[2]\n",
    "#     z1, z2 = ii1[3], ii2[3]\n",
    "#     # Apply operator\n",
    "#     if (np.dot(boundary_normal[point2boundary[p1]], Rs[r1]) < 0.0):\n",
    "#         if (z2 == 0):\n",
    "#             return +kernel(p1,p2) + d1_kernel(p1,p2) / chi[p1,f1]\n",
    "#         else:\n",
    "#             return +kernel(p1,p2) + d1_kernel(p1,p2) / chi[p1,f1]\n",
    "#     else:\n",
    "#         if (z2 == 0):\n",
    "#             return -kernel(p1,p2) + d1_kernel(p1,p2) / chi[p1,f1]\n",
    "#         else:\n",
    "#             return +kernel(p1,p2) - d1_kernel(p1,p2) / chi[p1,f1]\n",
    "            \n",
    "\n",
    "# # @njit\n",
    "# def L1L2_k(ii1, ii2):\n",
    "#     \"\"\"\n",
    "#     L1 L2 k(x1,x2) = [ 1 + (∇1/χ1) (∇2/χ2)  (∇1/χ1)  +  (∇2/χ2) ] \n",
    "#                      [ (∇1/χ1)  +  (∇2/χ2)  1 + (∇1/χ1) (∇2/χ2) ] k(x1,x2)\n",
    "#     \"\"\"\n",
    "#     # Unpack indices\n",
    "#     p1, p2 = ii1[0], ii2[0]\n",
    "#     f1, f2 = ii1[1], ii2[1]\n",
    "#     r1, r2 = ii1[2], ii2[2]\n",
    "#     z1, z2 = ii1[3], ii2[3]\n",
    "#     # Apply operator\n",
    "#     if (z1 == z2):\n",
    "#         return kernel(p1,p2) + d1d2_kernel(p1,p2) / (chi[p1,f1] * chi[p2,f2])\n",
    "#     else:\n",
    "#         return d2_kernel(p1,p2) / chi[p2,f2] + d1_kernel(p1,p2) / chi[p1,f1]"
   ]
  },
  {
   "cell_type": "code",
   "execution_count": 22,
   "metadata": {},
   "outputs": [],
   "source": [
    "# @njit\n",
    "def get_Sigma12():\n",
    "    \"\"\"\n",
    "    Σ12 = [ B(1) k(xb,xi)  L(1) k(xa,xi) ]\n",
    "    \"\"\"\n",
    "    # initialize\n",
    "    data = np.zeros(datsize_S12, dtype=np.float64)\n",
    "    id_1 = np.zeros(datsize_S12, dtype=np.int64)\n",
    "    id_2 = np.zeros(datsize_S12, dtype=np.int64)\n",
    "    # set index\n",
    "    index = 0\n",
    "    \n",
    "    for ii2_bdy in itertools.product(*inds_bdy):\n",
    "        ii2_blk = bdy_2_blk(ii2_bdy)\n",
    "        ii2     = linds_bdy[ii2_bdy]\n",
    "        for ii1_blk in itertools.product(*reds_blk(ii2_blk)):\n",
    "            ii1 = linds_blk[ii1_blk]\n",
    "            # Compute element\n",
    "            Bk = B1_k(ii1_blk, ii2_blk)\n",
    "            # Add element\n",
    "            data[index] = Bk\n",
    "            id_1[index] = ii1\n",
    "            id_2[index] = ii2\n",
    "            index += 1\n",
    "\n",
    "    for ii1_blk in itertools.product(*inds_blk):\n",
    "        ii1 = linds_blk[ii1_blk]\n",
    "        for ii2_blk in itertools.product(*reds_blk(ii1_blk)):\n",
    "            ii2 = linds_blk[ii2_blk] + dim_bdy\n",
    "            # Compute element\n",
    "            Lk = L1_k(ii1_blk, ii2_blk)\n",
    "            # Add element\n",
    "            data[index] = Lk\n",
    "            id_1[index] = ii1\n",
    "            id_2[index] = ii2\n",
    "            index += 1\n",
    "\n",
    "    return (data, (id_1, id_2))\n",
    "\n",
    "\n",
    "def get_Sigma22():\n",
    "    \"\"\"\n",
    "    Σ22 = [ B(1) k(xb,xb) B(2)  L(1) k(xa,xb) B(2) ]\n",
    "          [ B(1) k(xb,xa) L(2)  L(1) k(xa,xa) L(2) ]\n",
    "    \"\"\"\n",
    "    # Initialize\n",
    "    data = np.zeros(datsize_S22, dtype=np.float64)\n",
    "    id_1 = np.zeros(datsize_S22, dtype=np.int64)\n",
    "    id_2 = np.zeros(datsize_S22, dtype=np.int64)\n",
    "    # Set index\n",
    "    index = 0\n",
    "\n",
    "    for ii1_bdy in itertools.product(*inds_bdy):\n",
    "        ii1_blk = bdy_2_blk(ii1_bdy)\n",
    "        ii1     = linds_bdy[ii1_bdy]\n",
    "        for ii2_bdy in itertools.product(*reds_bdy(ii1_bdy)):    \n",
    "            ii2_blk = bdy_2_blk(ii2_bdy)\n",
    "            ii2     = linds_bdy[ii2_bdy]\n",
    "            if (ii1 <= ii2):\n",
    "                # Compute element\n",
    "                BB = B1B2_k(ii1_blk, ii2_blk)\n",
    "                # Add upper triangular part\n",
    "                data[index] = BB\n",
    "                id_1[index] = ii1\n",
    "                id_2[index] = ii2\n",
    "                index += 1\n",
    "                if (ii1 < ii2):\n",
    "                    # Add lower triangular part\n",
    "                    data[index] = BB\n",
    "                    id_1[index] = ii2\n",
    "                    id_2[index] = ii1\n",
    "                    index += 1\n",
    "\n",
    "    for ii1_bdy in itertools.product(*inds_bdy):\n",
    "        ii1_blk = bdy_2_blk(ii1_bdy)\n",
    "        ii1     = linds_bdy[ii1_bdy]\n",
    "        for ii2_blk in itertools.product(*reds_blk(ii1_blk)):\n",
    "            ii2 = linds_blk[ii2_blk] + dim_bdy   \n",
    "            # Compute element\n",
    "            LB = L1B2_k(ii1_blk, ii2_blk)\n",
    "            # Add upper triangular part\n",
    "            data[index] = LB\n",
    "            id_1[index] = ii1\n",
    "            id_2[index] = ii2\n",
    "            index += 1\n",
    "            # Add lower triangular part\n",
    "            data[index] = LB\n",
    "            id_1[index] = ii2\n",
    "            id_2[index] = ii1 \n",
    "            index += 1\n",
    "            \n",
    "    for ii1_blk in itertools.product(*inds_blk):\n",
    "        ii1 = linds_blk[ii1_blk] + dim_bdy\n",
    "        for ii2_blk in itertools.product(*reds_blk(ii1_blk)):\n",
    "            ii2 = linds_blk[ii2_blk] + dim_bdy\n",
    "            if (ii1 <= ii2):\n",
    "                # Compute element\n",
    "                LL = L1L2_k(ii1_blk, ii2_blk)\n",
    "                # Add upper triangular part\n",
    "                data[index] = LL\n",
    "                id_1[index] = ii1\n",
    "                id_2[index] = ii2\n",
    "                index += 1\n",
    "                if (ii1 < ii2):\n",
    "                    # Add lower triangular part\n",
    "                    data[index] = LL\n",
    "                    id_1[index] = ii2\n",
    "                    id_2[index] = ii1\n",
    "                    index += 1\n",
    "                    \n",
    "    # Return the data\n",
    "    return (data, (id_1, id_2))\n",
    "\n",
    "\n",
    "# @njit\n",
    "def get_condition():\n",
    "    \"\"\"\n",
    "    condition = [ boundary condition ]\n",
    "                [ operator condition ] \n",
    "    \"\"\"\n",
    "    # initialize\n",
    "    condition = np.zeros(dim_tot)\n",
    "\n",
    "    for ii1_bdy in itertools.product(*inds_bdy):\n",
    "        ii1_blk = bdy_2_blk(ii1_bdy)\n",
    "        ii1     = linds_bdy[ii1_bdy]\n",
    "        # Set boundary condition\n",
    "        condition[ii1] = 1.0 #boundary_condition[ii1_bdy]\n",
    "        \n",
    "    for ii1_blk in itertools.product(*inds_blk):\n",
    "        ii1 = linds_blk[ii1_blk] + dim_bdy\n",
    "        # Set operator condition\n",
    "        condition[ii1] = 0.0 #operator_condition[ii1_blk]\n",
    "\n",
    "    return condition"
   ]
  },
  {
   "cell_type": "code",
   "execution_count": 23,
   "metadata": {},
   "outputs": [],
   "source": [
    "SIGMA22 = get_Sigma22()\n",
    "Sigma22 = sparse.coo_matrix(SIGMA22, shape=(dim_tot, dim_tot)).tocsc()"
   ]
  },
  {
   "cell_type": "code",
   "execution_count": 24,
   "metadata": {},
   "outputs": [
    {
     "data": {
      "text/plain": [
       "array([4.5, 4.5, 4.5, 4.5, 4.5])"
      ]
     },
     "execution_count": 24,
     "metadata": {},
     "output_type": "execute_result"
    }
   ],
   "source": [
    "hs"
   ]
  },
  {
   "cell_type": "code",
   "execution_count": 25,
   "metadata": {},
   "outputs": [
    {
     "data": {
      "text/plain": [
       "array([[0],\n",
       "       [1],\n",
       "       [2],\n",
       "       [3],\n",
       "       [4]])"
      ]
     },
     "execution_count": 25,
     "metadata": {},
     "output_type": "execute_result"
    }
   ],
   "source": [
    "xs"
   ]
  },
  {
   "cell_type": "code",
   "execution_count": 26,
   "metadata": {},
   "outputs": [
    {
     "name": "stdout",
     "output_type": "stream",
     "text": [
      "[[1.         1.         0.92743266 0.81647814 0.         0.        ]\n",
      " [1.         1.04938272 1.02141012 0.94185648 0.         0.        ]\n",
      " [0.92743266 1.02141012 1.04938272 1.02141012 0.         0.        ]\n",
      " [0.81647814 0.94185648 1.02141012 1.04938272 1.02141012 0.        ]\n",
      " [0.         0.         0.         1.02141012 1.04938272 1.02141012]\n",
      " [0.         0.         0.         0.         1.02141012 1.04938272]]\n"
     ]
    }
   ],
   "source": [
    "print(Sigma22.todense())"
   ]
  },
  {
   "cell_type": "code",
   "execution_count": 27,
   "metadata": {},
   "outputs": [
    {
     "data": {
      "text/plain": [
       "<matplotlib.collections.PathCollection at 0x7fb703dd1a58>"
      ]
     },
     "execution_count": 27,
     "metadata": {},
     "output_type": "execute_result"
    },
    {
     "data": {
      "image/png": "[encoded data removed]",
      "text/plain": [
       "<Figure size 720x480 with 1 Axes>"
      ]
     },
     "metadata": {
      "needs_background": "light"
     },
     "output_type": "display_data"
    }
   ],
   "source": [
    "vmin = -np.max(np.abs(Sigma22.todense()))\n",
    "vmax = +np.max(np.abs(Sigma22.todense()))\n",
    "plt.figure(dpi=120)\n",
    "plt.imshow(Sigma22.todense(), cmap='Spectral')\n",
    "plt.scatter(SIGMA22[1][1], SIGMA22[1][0], c='k', marker='.', s=1)"
   ]
  },
  {
   "cell_type": "code",
   "execution_count": 28,
   "metadata": {},
   "outputs": [
    {
     "data": {
      "text/plain": [
       "-0.0005626621228802414"
      ]
     },
     "execution_count": 28,
     "metadata": {},
     "output_type": "execute_result"
    }
   ],
   "source": [
    "np.linalg.det(Sigma22.todense())"
   ]
  },
  {
   "cell_type": "code",
   "execution_count": 29,
   "metadata": {},
   "outputs": [],
   "source": [
    "SIGMA12 = get_Sigma12()\n",
    "Sigma12 = sparse.coo_matrix(SIGMA12, shape=(dim_blk, dim_tot)).tocsc()"
   ]
  },
  {
   "cell_type": "code",
   "execution_count": 30,
   "metadata": {},
   "outputs": [
    {
     "name": "stdout",
     "output_type": "stream",
     "text": [
      "[[1.         1.         0.92743266 0.81647814 0.         0.        ]\n",
      " [0.97561098 1.0237893  1.         0.92743266 0.         0.        ]\n",
      " [0.90595519 0.         1.0237893  1.         0.92743266 0.        ]\n",
      " [0.         0.         0.         1.0237893  1.         0.92743266]\n",
      " [0.         0.         0.         0.99543225 1.0237893  1.        ]]\n"
     ]
    }
   ],
   "source": [
    "print(Sigma12.todense())"
   ]
  },
  {
   "cell_type": "code",
   "execution_count": 33,
   "metadata": {},
   "outputs": [
    {
     "data": {
      "text/plain": [
       "<matplotlib.collections.PathCollection at 0x7fb703fa3748>"
      ]
     },
     "execution_count": 33,
     "metadata": {},
     "output_type": "execute_result"
    },
    {
     "data": {
      "image/png": "[encoded data removed]",
      "text/plain": [
       "<Figure size 660x440 with 1 Axes>"
      ]
     },
     "metadata": {
      "needs_background": "light"
     },
     "output_type": "display_data"
    }
   ],
   "source": [
    "vmin = -np.max(np.abs(Sigma12.todense()))\n",
    "vmax = +np.max(np.abs(Sigma12.todense()))\n",
    "plt.figure(dpi=110)\n",
    "plt.imshow(Sigma12.todense(), cmap='Spectral', vmin=vmin, vmax=vmax)\n",
    "plt.scatter(SIGMA12[1][1], SIGMA12[1][0], c='k', marker='X', s=2)"
   ]
  },
  {
   "cell_type": "code",
   "execution_count": 34,
   "metadata": {},
   "outputs": [
    {
     "data": {
      "text/plain": [
       "array([1., 0., 0., 0., 0., 0.])"
      ]
     },
     "execution_count": 34,
     "metadata": {},
     "output_type": "execute_result"
    }
   ],
   "source": [
    "condition = get_condition()\n",
    "condition"
   ]
  },
  {
   "cell_type": "code",
   "execution_count": 35,
   "metadata": {},
   "outputs": [
    {
     "data": {
      "text/plain": [
       "<matplotlib.image.AxesImage at 0x7fb703ecd320>"
      ]
     },
     "execution_count": 35,
     "metadata": {},
     "output_type": "execute_result"
    },
    {
     "data": {
      "image/png": "[encoded data removed]",
      "text/plain": [
       "<Figure size 660x440 with 1 Axes>"
      ]
     },
     "metadata": {
      "needs_background": "light"
     },
     "output_type": "display_data"
    }
   ],
   "source": [
    "plt.figure(dpi=110)\n",
    "plt.imshow([condition], cmap='Spectral')"
   ]
  },
  {
   "cell_type": "code",
   "execution_count": 40,
   "metadata": {},
   "outputs": [
    {
     "data": {
      "text/plain": [
       "array([ 1.00000000e+00,  3.28171182e-01,  1.97375994e+02, -2.77496691e-02,\n",
       "        2.21548294e-03])"
      ]
     },
     "execution_count": 40,
     "metadata": {},
     "output_type": "execute_result"
    }
   ],
   "source": [
    "weight = sparse.linalg.spsolve(Sigma22, condition)\n",
    "result = Sigma12.dot(weight)\n",
    "result"
   ]
  },
  {
   "cell_type": "code",
   "execution_count": 41,
   "metadata": {},
   "outputs": [
    {
     "data": {
      "text/plain": [
       "[<matplotlib.lines.Line2D at 0x7fb703cb3860>]"
      ]
     },
     "execution_count": 41,
     "metadata": {},
     "output_type": "execute_result"
    },
    {
     "data": {
      "image/png": "[encoded data removed]",
      "text/plain": [
       "<Figure size 432x288 with 1 Axes>"
      ]
     },
     "metadata": {
      "needs_background": "light"
     },
     "output_type": "display_data"
    }
   ],
   "source": [
    "plt.plot(rs, result)"
   ]
  },
  {
   "cell_type": "code",
   "execution_count": null,
   "metadata": {},
   "outputs": [],
   "source": []
  },
  {
   "cell_type": "code",
   "execution_count": null,
   "metadata": {},
   "outputs": [],
   "source": []
  }
 ],
 "metadata": {
  "kernelspec": {
   "display_name": "Python 3",
   "language": "python",
   "name": "python3"
  },
  "language_info": {
   "codemirror_mode": {
    "name": "ipython",
    "version": 3
   },
   "file_extension": ".py",
   "mimetype": "text/x-python",
   "name": "python",
   "nbconvert_exporter": "python",
   "pygments_lexer": "ipython3",
   "version": "3.6.12"
  }
 },
 "nbformat": 4,
 "nbformat_minor": 4
}
