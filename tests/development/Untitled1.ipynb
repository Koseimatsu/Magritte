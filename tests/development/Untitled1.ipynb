{
 "cells": [
  {
   "cell_type": "code",
   "execution_count": 1,
   "id": "25b81d05-f458-4489-b483-079628257920",
   "metadata": {},
   "outputs": [],
   "source": [
    "import magritte.core as magritte"
   ]
  },
  {
   "cell_type": "code",
   "execution_count": 2,
   "id": "c0ae0198-01c0-4da4-924e-76ce70c50ba2",
   "metadata": {},
   "outputs": [
    {
     "data": {
      "text/plain": [
       "0"
      ]
     },
     "execution_count": 2,
     "metadata": {},
     "output_type": "execute_result"
    }
   ],
   "source": [
    "magritte.pcmp_comm_rank()"
   ]
  },
  {
   "cell_type": "code",
   "execution_count": 3,
   "id": "1ee87d64-e11d-4e2e-b880-3f3597cdd7aa",
   "metadata": {},
   "outputs": [],
   "source": [
    "import numpy as np"
   ]
  },
  {
   "cell_type": "code",
   "execution_count": 4,
   "id": "a993eae3-b970-4e39-a154-ecfb4ee38787",
   "metadata": {},
   "outputs": [],
   "source": [
    "import healpy"
   ]
  },
  {
   "cell_type": "code",
   "execution_count": 5,
   "id": "807f7c05-8a19-406d-a464-54ace8768b29",
   "metadata": {},
   "outputs": [],
   "source": [
    "nrays = 12*1**2"
   ]
  },
  {
   "cell_type": "code",
   "execution_count": 6,
   "id": "1a2796ac-96c6-4c18-9acd-8296606a0ab4",
   "metadata": {},
   "outputs": [],
   "source": [
    "x,y,z = healpy.pix2vec(healpy.npix2nside(nrays),range(nrays))"
   ]
  },
  {
   "cell_type": "code",
   "execution_count": 7,
   "id": "daeba5f1-234b-4a46-a38f-2b2120c48ad8",
   "metadata": {},
   "outputs": [],
   "source": [
    "Rs = np.array((x,y,z)).T"
   ]
  },
  {
   "cell_type": "code",
   "execution_count": 8,
   "id": "6e08e101-8258-4f1a-a62f-90d753a05805",
   "metadata": {},
   "outputs": [
    {
     "data": {
      "text/plain": [
       "array([[ 5.27046277e-01,  5.27046277e-01,  6.66666667e-01],\n",
       "       [-5.27046277e-01,  5.27046277e-01,  6.66666667e-01],\n",
       "       [-5.27046277e-01, -5.27046277e-01,  6.66666667e-01],\n",
       "       [ 5.27046277e-01, -5.27046277e-01,  6.66666667e-01],\n",
       "       [ 1.00000000e+00,  0.00000000e+00,  0.00000000e+00],\n",
       "       [ 6.12323400e-17,  1.00000000e+00,  0.00000000e+00],\n",
       "       [-1.00000000e+00,  1.22464680e-16,  0.00000000e+00],\n",
       "       [-1.83697020e-16, -1.00000000e+00,  0.00000000e+00],\n",
       "       [ 5.27046277e-01,  5.27046277e-01, -6.66666667e-01],\n",
       "       [-5.27046277e-01,  5.27046277e-01, -6.66666667e-01],\n",
       "       [-5.27046277e-01, -5.27046277e-01, -6.66666667e-01],\n",
       "       [ 5.27046277e-01, -5.27046277e-01, -6.66666667e-01]])"
      ]
     },
     "execution_count": 8,
     "metadata": {},
     "output_type": "execute_result"
    }
   ],
   "source": [
    "Rs"
   ]
  },
  {
   "cell_type": "code",
   "execution_count": 16,
   "id": "c2dd8b51-e363-4790-af4c-76e15402d5c1",
   "metadata": {},
   "outputs": [],
   "source": [
    "def load_balance_directions(directions, comm_size):\n",
    "    \"\"\"\n",
    "    Basic attempt to imporved load balancing between different MPI\n",
    "    processes by reordering the rays such that each process gets a\n",
    "    similar set of direcitons.\n",
    "    \"\"\"\n",
    "    # Initialize\n",
    "    Rs = directions\n",
    "    \n",
    "    # Precompute distances between all directions\n",
    "    distances = np.arccos(np.matmul(Rs, Rs.T))\n",
    "\n",
    "    # Get antipode for each direction\n",
    "    antipodes = np.argmax(distances, axis=0)\n",
    "\n",
    "    # Restrict to one hemisphere (antipodes will follow)\n",
    "    Rs = Rs[:len(Rs)//2]\n",
    "\n",
    "    # Precompute distances between all directions\n",
    "    distances = np.arccos(np.matmul(Rs, Rs.T))\n",
    "\n",
    "    # Initialize index lists\n",
    "    inds   = list(range(len(Rs)))\n",
    "    inds_o = [[] for _ in range(comm_size)]\n",
    "\n",
    "    while len(inds) >= comm_size:\n",
    "        # Take the next index\n",
    "        id0 = inds[0]\n",
    "        inds     .remove(id0)\n",
    "        inds_o[0].append(id0)\n",
    "        # Append indices of close directions to other processes\n",
    "        for i in range(1, comm_size):\n",
    "            idi = inds[np.argmin(distances[id0][inds])]\n",
    "            inds     .remove(idi)\n",
    "            inds_o[i].append(idi)\n",
    "\n",
    "    # Append final indices\n",
    "    for i, idx in enumerate(inds):\n",
    "        inds_o[i].append(idx)\n",
    "        \n",
    "    # Unravel\n",
    "    inds_o = [j for sl in inds_o for j in sl]\n",
    "\n",
    "    # Add antipodes\n",
    "    inds_o.extend(antipodes[inds_o].tolist())\n",
    "    \n",
    "    return directions[inds_o]"
   ]
  },
  {
   "cell_type": "code",
   "execution_count": 19,
   "id": "d75e993f-9902-4551-9033-65d61611be7e",
   "metadata": {},
   "outputs": [
    {
     "data": {
      "text/plain": [
       "array([[ 5.27046277e-01,  5.27046277e-01,  6.66666667e-01],\n",
       "       [-5.27046277e-01,  5.27046277e-01,  6.66666667e-01],\n",
       "       [-5.27046277e-01, -5.27046277e-01,  6.66666667e-01],\n",
       "       [ 1.00000000e+00,  0.00000000e+00,  0.00000000e+00],\n",
       "       [ 6.12323400e-17,  1.00000000e+00,  0.00000000e+00],\n",
       "       [ 5.27046277e-01, -5.27046277e-01,  6.66666667e-01]])"
      ]
     },
     "execution_count": 19,
     "metadata": {},
     "output_type": "execute_result"
    }
   ],
   "source": [
    "load_balance_directions(Rs, 2)[:6]"
   ]
  },
  {
   "cell_type": "code",
   "execution_count": 18,
   "id": "9e2d11c4-bf4f-4633-8406-d5c240f98386",
   "metadata": {},
   "outputs": [
    {
     "data": {
      "text/plain": [
       "array([[-5.27046277e-01, -5.27046277e-01, -6.66666667e-01],\n",
       "       [ 5.27046277e-01, -5.27046277e-01, -6.66666667e-01],\n",
       "       [ 5.27046277e-01,  5.27046277e-01, -6.66666667e-01],\n",
       "       [-1.00000000e+00,  1.22464680e-16,  0.00000000e+00],\n",
       "       [-1.83697020e-16, -1.00000000e+00,  0.00000000e+00],\n",
       "       [-5.27046277e-01,  5.27046277e-01, -6.66666667e-01]])"
      ]
     },
     "execution_count": 18,
     "metadata": {},
     "output_type": "execute_result"
    }
   ],
   "source": [
    "load_balance_directions(Rs, 2)[6:]"
   ]
  },
  {
   "cell_type": "code",
   "execution_count": 13,
   "id": "e0e2c1a4-23f9-4cd3-9930-736b213eb94c",
   "metadata": {},
   "outputs": [
    {
     "data": {
      "text/plain": [
       "array([1.49011612e-08, 1.11024234e+00, 1.68213734e+00, 1.11024234e+00,\n",
       "       1.01567516e+00, 1.01567516e+00])"
      ]
     },
     "execution_count": 13,
     "metadata": {},
     "output_type": "execute_result"
    }
   ],
   "source": [
    "distances[index]"
   ]
  },
  {
   "cell_type": "code",
   "execution_count": 16,
   "id": "e6f9b4d7-c069-4382-baba-ae0c75929352",
   "metadata": {},
   "outputs": [
    {
     "data": {
      "text/plain": [
       "[1, 2, 3, 4, 5]"
      ]
     },
     "execution_count": 16,
     "metadata": {},
     "output_type": "execute_result"
    }
   ],
   "source": [
    "inds"
   ]
  },
  {
   "cell_type": "code",
   "execution_count": 18,
   "id": "9a43cbde-6375-465c-8226-077cb9304403",
   "metadata": {},
   "outputs": [
    {
     "data": {
      "text/plain": [
       "4"
      ]
     },
     "execution_count": 18,
     "metadata": {},
     "output_type": "execute_result"
    }
   ],
   "source": []
  },
  {
   "cell_type": "code",
   "execution_count": 15,
   "id": "de27c53c-725c-4ff9-9190-d736ec7c4068",
   "metadata": {},
   "outputs": [
    {
     "data": {
      "text/plain": [
       "[[0], [], [], []]"
      ]
     },
     "execution_count": 15,
     "metadata": {},
     "output_type": "execute_result"
    }
   ],
   "source": [
    "inds_o"
   ]
  },
  {
   "cell_type": "code",
   "execution_count": 22,
   "id": "60635b28-a738-4b0d-abae-f9d69922726d",
   "metadata": {},
   "outputs": [
    {
     "data": {
      "text/plain": [
       "0"
      ]
     },
     "execution_count": 22,
     "metadata": {},
     "output_type": "execute_result"
    }
   ],
   "source": [
    "index"
   ]
  },
  {
   "cell_type": "code",
   "execution_count": 20,
   "id": "709db7b4-4dff-4b6c-adf7-9602f38a94e0",
   "metadata": {},
   "outputs": [
    {
     "data": {
      "text/plain": [
       "3.141592653589793"
      ]
     },
     "execution_count": 20,
     "metadata": {},
     "output_type": "execute_result"
    }
   ],
   "source": [
    "max(distances[0])"
   ]
  },
  {
   "cell_type": "code",
   "execution_count": 21,
   "id": "189441bc-f571-4391-8ab0-df031f79eade",
   "metadata": {},
   "outputs": [],
   "source": [
    "antipodes = np.argmax(distances, axis=0)"
   ]
  },
  {
   "cell_type": "code",
   "execution_count": 22,
   "id": "db5e7f0e-12b5-4566-8da8-45866f192bdf",
   "metadata": {},
   "outputs": [
    {
     "data": {
      "text/plain": [
       "array([[ 5.27046277e-01,  5.27046277e-01,  6.66666667e-01],\n",
       "       [-5.27046277e-01,  5.27046277e-01,  6.66666667e-01],\n",
       "       [-5.27046277e-01, -5.27046277e-01,  6.66666667e-01],\n",
       "       [ 5.27046277e-01, -5.27046277e-01,  6.66666667e-01],\n",
       "       [ 1.00000000e+00,  0.00000000e+00,  0.00000000e+00],\n",
       "       [ 6.12323400e-17,  1.00000000e+00,  0.00000000e+00],\n",
       "       [-1.00000000e+00,  1.22464680e-16,  0.00000000e+00],\n",
       "       [-1.83697020e-16, -1.00000000e+00,  0.00000000e+00],\n",
       "       [ 5.27046277e-01,  5.27046277e-01, -6.66666667e-01],\n",
       "       [-5.27046277e-01,  5.27046277e-01, -6.66666667e-01],\n",
       "       [-5.27046277e-01, -5.27046277e-01, -6.66666667e-01],\n",
       "       [ 5.27046277e-01, -5.27046277e-01, -6.66666667e-01]])"
      ]
     },
     "execution_count": 22,
     "metadata": {},
     "output_type": "execute_result"
    }
   ],
   "source": [
    "Rs"
   ]
  },
  {
   "cell_type": "code",
   "execution_count": 24,
   "id": "efef7b76-9f3b-4e92-9eb5-cb09699d11c3",
   "metadata": {},
   "outputs": [
    {
     "data": {
      "text/plain": [
       "array([[-1.11022302e-16,  0.00000000e+00,  0.00000000e+00],\n",
       "       [ 0.00000000e+00, -1.11022302e-16,  0.00000000e+00],\n",
       "       [-1.11022302e-16,  0.00000000e+00,  0.00000000e+00],\n",
       "       [ 0.00000000e+00, -1.11022302e-16,  0.00000000e+00],\n",
       "       [ 0.00000000e+00,  1.22464680e-16,  0.00000000e+00],\n",
       "       [-1.22464680e-16,  0.00000000e+00,  0.00000000e+00],\n",
       "       [ 0.00000000e+00,  1.22464680e-16,  0.00000000e+00],\n",
       "       [-1.22464680e-16,  0.00000000e+00,  0.00000000e+00],\n",
       "       [-1.11022302e-16,  0.00000000e+00,  0.00000000e+00],\n",
       "       [ 0.00000000e+00, -1.11022302e-16,  0.00000000e+00],\n",
       "       [-1.11022302e-16,  0.00000000e+00,  0.00000000e+00],\n",
       "       [ 0.00000000e+00, -1.11022302e-16,  0.00000000e+00]])"
      ]
     },
     "execution_count": 24,
     "metadata": {},
     "output_type": "execute_result"
    }
   ],
   "source": [
    "Rs[antipodes] + Rs"
   ]
  },
  {
   "cell_type": "code",
   "execution_count": 18,
   "id": "d45e673d-4ae0-4b48-8e13-bbf40c3e6b19",
   "metadata": {},
   "outputs": [
    {
     "data": {
      "text/plain": [
       "array([[ 0.03607264,  0.03607264,  0.99869792],\n",
       "       [-0.99879546,  0.04906767,  0.        ],\n",
       "       [ 0.99879546,  0.04906767,  0.        ]])"
      ]
     },
     "execution_count": 18,
     "metadata": {},
     "output_type": "execute_result"
    }
   ],
   "source": [
    "Rs[inds_o[0:3]]"
   ]
  },
  {
   "cell_type": "code",
   "execution_count": 30,
   "id": "b3c130db-9c2a-473c-b9e6-1e4934e041fa",
   "metadata": {},
   "outputs": [],
   "source": [
    "inds = list(range(len(Rs)))"
   ]
  },
  {
   "cell_type": "code",
   "execution_count": 31,
   "id": "660d1a0e-851d-42c2-aba0-6e6a02bbe829",
   "metadata": {},
   "outputs": [],
   "source": [
    "inds_o = [inds.pop(0)]"
   ]
  },
  {
   "cell_type": "code",
   "execution_count": 32,
   "id": "0195324a-3ed3-4236-8923-71a21c556d98",
   "metadata": {},
   "outputs": [
    {
     "data": {
      "text/plain": [
       "[1, 2, 3, 4, 5, 6, 7, 8, 9, 10, 11]"
      ]
     },
     "execution_count": 32,
     "metadata": {},
     "output_type": "execute_result"
    }
   ],
   "source": [
    "inds"
   ]
  },
  {
   "cell_type": "code",
   "execution_count": 33,
   "id": "85385afe-4fd0-49b8-bc13-c05c1beba2d7",
   "metadata": {},
   "outputs": [
    {
     "data": {
      "text/plain": [
       "[0]"
      ]
     },
     "execution_count": 33,
     "metadata": {},
     "output_type": "execute_result"
    }
   ],
   "source": [
    "inds_o"
   ]
  },
  {
   "cell_type": "code",
   "execution_count": 35,
   "id": "e9c78b23-4133-4962-b9ae-254f0017deae",
   "metadata": {},
   "outputs": [],
   "source": [
    "inds_o.append(inds.pop(1))"
   ]
  },
  {
   "cell_type": "code",
   "execution_count": 36,
   "id": "20aafa27-e28d-4e67-8dfb-33abf4f6989b",
   "metadata": {},
   "outputs": [
    {
     "data": {
      "text/plain": [
       "[1, 3, 4, 5, 6, 7, 8, 9, 10, 11]"
      ]
     },
     "execution_count": 36,
     "metadata": {},
     "output_type": "execute_result"
    }
   ],
   "source": [
    "inds"
   ]
  },
  {
   "cell_type": "code",
   "execution_count": 37,
   "id": "f6315ba5-85f7-4f41-8748-4c6dad895595",
   "metadata": {},
   "outputs": [
    {
     "data": {
      "text/plain": [
       "[0, 2]"
      ]
     },
     "execution_count": 37,
     "metadata": {},
     "output_type": "execute_result"
    }
   ],
   "source": [
    "inds_o"
   ]
  },
  {
   "cell_type": "code",
   "execution_count": 41,
   "id": "de141201-715b-4414-9c08-05e1ebad0398",
   "metadata": {},
   "outputs": [
    {
     "data": {
      "text/plain": [
       "array([[1.49011612e-08, 1.11024234e+00, 1.68213734e+00, 1.11024234e+00,\n",
       "        1.01567516e+00, 1.01567516e+00, 2.12591749e+00, 2.12591749e+00,\n",
       "        1.45945531e+00, 2.03135032e+00, 3.14159265e+00, 2.03135032e+00],\n",
       "       [1.68213734e+00, 1.11024234e+00, 0.00000000e+00, 1.11024234e+00,\n",
       "        2.12591749e+00, 2.12591749e+00, 1.01567516e+00, 1.01567516e+00,\n",
       "        3.14159265e+00, 2.03135032e+00, 1.45945531e+00, 2.03135032e+00]])"
      ]
     },
     "execution_count": 41,
     "metadata": {},
     "output_type": "execute_result"
    }
   ],
   "source": [
    "for i, ind in enumerate(inds):\n",
    "\n",
    "    dists[inds_o]"
   ]
  },
  {
   "cell_type": "code",
   "execution_count": 55,
   "id": "81c0cb62-6341-4003-8eee-24a6c6fd4e7d",
   "metadata": {},
   "outputs": [],
   "source": [
    "dist = np.sum(dists[inds_o][:,inds], axis=0)"
   ]
  },
  {
   "cell_type": "code",
   "execution_count": 58,
   "id": "10a866ae-e01a-4037-a2f7-34793d85b48a",
   "metadata": {},
   "outputs": [
    {
     "data": {
      "text/plain": [
       "6"
      ]
     },
     "execution_count": 58,
     "metadata": {},
     "output_type": "execute_result"
    }
   ],
   "source": [
    "np.argmax(dist)"
   ]
  },
  {
   "cell_type": "code",
   "execution_count": null,
   "id": "57932755-8fd6-44c0-8834-c6fa14dceb94",
   "metadata": {},
   "outputs": [],
   "source": [
    "ind_farthest = np.argmax(dist)"
   ]
  },
  {
   "cell_type": "code",
   "execution_count": null,
   "id": "19b9335a-7028-4d5c-a4cc-ae38b4db5cdc",
   "metadata": {},
   "outputs": [],
   "source": [
    "inds_o.append(inds.pop(ind_farthest))"
   ]
  },
  {
   "cell_type": "code",
   "execution_count": null,
   "id": "a15eabb6-7a88-49e7-8fc7-70fe79ecb2ed",
   "metadata": {},
   "outputs": [],
   "source": []
  },
  {
   "cell_type": "code",
   "execution_count": 61,
   "id": "0f8380e2-47bd-4502-8223-51aa400d8ff0",
   "metadata": {},
   "outputs": [
    {
     "data": {
      "text/plain": [
       "array([2.22048467, 2.22048467, 3.14159265, 3.14159265, 3.14159265,\n",
       "       3.14159265, 4.60104797, 4.06270064, 4.60104797, 4.06270064])"
      ]
     },
     "execution_count": 61,
     "metadata": {},
     "output_type": "execute_result"
    }
   ],
   "source": [
    "dist"
   ]
  },
  {
   "cell_type": "code",
   "execution_count": 62,
   "id": "4ebd53d6-46c5-421e-8b66-a1a093ae0e08",
   "metadata": {},
   "outputs": [
    {
     "data": {
      "text/plain": [
       "4.601047966043726"
      ]
     },
     "execution_count": 62,
     "metadata": {},
     "output_type": "execute_result"
    }
   ],
   "source": [
    "dist[6]"
   ]
  },
  {
   "cell_type": "code",
   "execution_count": 11,
   "id": "cc97e692-8021-4e92-a98b-5cb2ad16cc4a",
   "metadata": {},
   "outputs": [],
   "source": [
    "# Remove first element form Rs and put it in ordered\n",
    "Rs_ordered = [Rs.pop(0)]"
   ]
  },
  {
   "cell_type": "code",
   "execution_count": 12,
   "id": "dca9eac5-0df7-4293-ae61-18b07a8978d1",
   "metadata": {},
   "outputs": [
    {
     "data": {
      "text/plain": [
       "[[0.5270462766947299, 0.5270462766947298, 0.6666666666666666]]"
      ]
     },
     "execution_count": 12,
     "metadata": {},
     "output_type": "execute_result"
    }
   ],
   "source": [
    "for "
   ]
  },
  {
   "cell_type": "code",
   "execution_count": 13,
   "id": "b6b4e322-7494-4c4a-8008-08212f680c69",
   "metadata": {},
   "outputs": [
    {
     "data": {
      "text/plain": [
       "10"
      ]
     },
     "execution_count": 13,
     "metadata": {},
     "output_type": "execute_result"
    }
   ],
   "source": [
    "len(Rs)"
   ]
  },
  {
   "cell_type": "code",
   "execution_count": 14,
   "id": "65a53ee1-0b0f-457d-b4a6-2ce1bbccc426",
   "metadata": {},
   "outputs": [
    {
     "data": {
      "text/plain": [
       "[[-0.5270462766947298, 0.5270462766947299, 0.6666666666666666],\n",
       " [-0.52704627669473, -0.5270462766947298, 0.6666666666666666],\n",
       " [0.5270462766947298, -0.52704627669473, 0.6666666666666666],\n",
       " [1.0, 0.0, 0.0],\n",
       " [6.123233995736766e-17, 1.0, 0.0],\n",
       " [-1.0, 1.2246467991473532e-16, 0.0],\n",
       " [-1.8369701987210297e-16, -1.0, 0.0],\n",
       " [0.5270462766947299, 0.5270462766947298, -0.6666666666666666],\n",
       " [-0.5270462766947298, 0.5270462766947299, -0.6666666666666666],\n",
       " [-0.52704627669473, -0.5270462766947298, -0.6666666666666666]]"
      ]
     },
     "execution_count": 14,
     "metadata": {},
     "output_type": "execute_result"
    }
   ],
   "source": [
    "Rs"
   ]
  },
  {
   "cell_type": "code",
   "execution_count": 8,
   "id": "224752e9-269a-4007-baec-82b5c5133450",
   "metadata": {},
   "outputs": [
    {
     "data": {
      "text/plain": [
       "array([[ 5.27046277e-01,  5.27046277e-01,  6.66666667e-01],\n",
       "       [-5.27046277e-01,  5.27046277e-01,  6.66666667e-01],\n",
       "       [-5.27046277e-01, -5.27046277e-01,  6.66666667e-01],\n",
       "       [ 5.27046277e-01, -5.27046277e-01,  6.66666667e-01],\n",
       "       [ 1.00000000e+00,  0.00000000e+00,  0.00000000e+00],\n",
       "       [ 6.12323400e-17,  1.00000000e+00,  0.00000000e+00],\n",
       "       [-1.00000000e+00,  1.22464680e-16,  0.00000000e+00],\n",
       "       [-1.83697020e-16, -1.00000000e+00,  0.00000000e+00],\n",
       "       [ 5.27046277e-01,  5.27046277e-01, -6.66666667e-01],\n",
       "       [-5.27046277e-01,  5.27046277e-01, -6.66666667e-01],\n",
       "       [-5.27046277e-01, -5.27046277e-01, -6.66666667e-01],\n",
       "       [ 5.27046277e-01, -5.27046277e-01, -6.66666667e-01]])"
      ]
     },
     "execution_count": 8,
     "metadata": {},
     "output_type": "execute_result"
    }
   ],
   "source": [
    "Rs"
   ]
  },
  {
   "cell_type": "code",
   "execution_count": 15,
   "id": "3443a6e1-29b8-4de7-ae04-46ee1b1813f8",
   "metadata": {},
   "outputs": [],
   "source": [
    "dists = np.arccos(np.matmul(Rs, Rs.T))"
   ]
  },
  {
   "cell_type": "code",
   "execution_count": 24,
   "id": "0a20918d-5bcf-4486-807a-b05c6f58970c",
   "metadata": {},
   "outputs": [
    {
     "data": {
      "text/plain": [
       "array([[0., 0., 0., 0., 0., 0., 0., 0., 0., 0., 0., 0.],\n",
       "       [0., 0., 0., 0., 0., 0., 0., 0., 0., 0., 0., 0.],\n",
       "       [0., 0., 0., 0., 0., 0., 0., 0., 0., 0., 0., 0.],\n",
       "       [0., 0., 0., 0., 0., 0., 0., 0., 0., 0., 0., 0.],\n",
       "       [0., 0., 0., 0., 0., 0., 0., 0., 0., 0., 0., 0.],\n",
       "       [0., 0., 0., 0., 0., 0., 0., 0., 0., 0., 0., 0.],\n",
       "       [0., 0., 0., 0., 0., 0., 0., 0., 0., 0., 0., 0.],\n",
       "       [0., 0., 0., 0., 0., 0., 0., 0., 0., 0., 0., 0.],\n",
       "       [0., 0., 0., 0., 0., 0., 0., 0., 0., 0., 0., 0.],\n",
       "       [0., 0., 0., 0., 0., 0., 0., 0., 0., 0., 0., 0.],\n",
       "       [0., 0., 0., 0., 0., 0., 0., 0., 0., 0., 0., 0.],\n",
       "       [0., 0., 0., 0., 0., 0., 0., 0., 0., 0., 0., 0.]])"
      ]
     },
     "execution_count": 24,
     "metadata": {},
     "output_type": "execute_result"
    }
   ],
   "source": [
    "dists - dists.T"
   ]
  },
  {
   "cell_type": "code",
   "execution_count": null,
   "id": "1507fa44-7e1d-417c-9dc0-5f90db52046d",
   "metadata": {},
   "outputs": [],
   "source": []
  }
 ],
 "metadata": {
  "kernelspec": {
   "display_name": "Python 3",
   "language": "python",
   "name": "python3"
  },
  "language_info": {
   "codemirror_mode": {
    "name": "ipython",
    "version": 3
   },
   "file_extension": ".py",
   "mimetype": "text/x-python",
   "name": "python",
   "nbconvert_exporter": "python",
   "pygments_lexer": "ipython3",
   "version": "3.6.13"
  }
 },
 "nbformat": 4,
 "nbformat_minor": 5
}
