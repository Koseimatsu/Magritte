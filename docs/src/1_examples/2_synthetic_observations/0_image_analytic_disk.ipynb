{
 "cells": [
  {
   "cell_type": "markdown",
   "metadata": {},
   "source": [
    "# Synth. Obs.: Analytic disk"
   ]
  },
  {
   "cell_type": "markdown",
   "metadata": {},
   "source": [
    "We create synthetic observations for the Magritte model of the analytic spiral that was created in the [this example](../0_creating_models/0_create_analytic_disk.ipynb)."
   ]
  },
  {
   "cell_type": "markdown",
   "metadata": {},
   "source": [
    "## Setup"
   ]
  },
  {
   "cell_type": "markdown",
   "metadata": {},
   "source": [
    "Import the required functionalty."
   ]
  },
  {
   "cell_type": "code",
   "execution_count": 1,
   "metadata": {},
   "outputs": [],
   "source": [
    "import magritte.core     as magritte   # Core functionality\n",
    "import magritte.plot     as plot       # Plotting\n",
    "import magritte.tools    as tools      # Save fits\n",
    "import os\n",
    "\n",
    "from astropy import units              # Unit conversions"
   ]
  },
  {
   "cell_type": "markdown",
   "metadata": {},
   "source": [
    "Define a working directory (you will have to change this). We assume here that the scripts of the [this example](../0_creating_models/0_create_analytic_disk.ipynb) have already been executed and go back to that working directory."
   ]
  },
  {
   "cell_type": "code",
   "execution_count": 2,
   "metadata": {},
   "outputs": [],
   "source": [
    "wdir = \"/lhome/thomasc/Magritte-examples/Analytic_disk/\""
   ]
  },
  {
   "cell_type": "markdown",
   "metadata": {},
   "source": [
    "Define file names."
   ]
  },
  {
   "cell_type": "code",
   "execution_count": 3,
   "metadata": {},
   "outputs": [],
   "source": [
    "model_file = os.path.join(wdir, 'model_analytic_disk.hdf5')   # Analytic spiral Magritte model"
   ]
  },
  {
   "cell_type": "markdown",
   "metadata": {},
   "source": [
    "Load the Magritte model."
   ]
  },
  {
   "cell_type": "code",
   "execution_count": 4,
   "metadata": {},
   "outputs": [
    {
     "name": "stdout",
     "output_type": "stream",
     "text": [
      "                                           \n",
      "-------------------------------------------\n",
      "  Reading Model...                         \n",
      "-------------------------------------------\n",
      " model file = /lhome/thomasc/Magritte-examples/Analytic_disk/model_analytic_disk.hdf5\n",
      "-------------------------------------------\n",
      "Reading parameters...\n",
      "Reading points...\n",
      "Reading rays...\n",
      "Reading boundary...\n",
      "Reading chemistry...\n",
      "Reading species...\n",
      "Reading thermodynamics...\n",
      "Reading temperature...\n",
      "Reading turbulence...\n",
      "Reading lines...\n",
      "Reading lineProducingSpecies...\n",
      "Reading linedata...\n",
      "read num 1\n",
      "read sym CO\n",
      "nlev = 41\n",
      "nrad = 1\n",
      "Reading collisionPartner...\n",
      "Reading collisionPartner...\n",
      "Reading quadrature...\n",
      "Reading radiation...\n",
      "Reading frequencies...\n",
      "Not using scattering!\n",
      "                                           \n",
      "-------------------------------------------\n",
      "  Model read, parameters:                  \n",
      "-------------------------------------------\n",
      "  npoints    = 200226\n",
      "  nrays      = 2\n",
      "  nboundary  = 1538\n",
      "  nfreqs     = 51\n",
      "  nspecs     = 5\n",
      "  nlspecs    = 1\n",
      "  nlines     = 1\n",
      "  nquads     = 51\n",
      "-------------------------------------------\n",
      "                                           \n"
     ]
    }
   ],
   "source": [
    "model = magritte.Model(model_file)"
   ]
  },
  {
   "cell_type": "markdown",
   "metadata": {},
   "source": [
    "## Model the medium"
   ]
  },
  {
   "cell_type": "markdown",
   "metadata": {},
   "source": [
    "Initialize the model by setting up a spectral discretisation, computing the inverse line widths and initializing the level populations with their LTE values."
   ]
  },
  {
   "cell_type": "code",
   "execution_count": 5,
   "metadata": {},
   "outputs": [
    {
     "name": "stdout",
     "output_type": "stream",
     "text": [
      "Computing spectral discretisation...\n",
      "Computing inverse line widths...\n",
      "Computing LTE level populations...\n"
     ]
    },
    {
     "data": {
      "text/plain": [
       "0"
      ]
     },
     "execution_count": 5,
     "metadata": {},
     "output_type": "execute_result"
    }
   ],
   "source": [
    "model.compute_spectral_discretisation ()\n",
    "model.compute_inverse_line_widths     ()\n",
    "model.compute_LTE_level_populations   ()"
   ]
  },
  {
   "cell_type": "markdown",
   "metadata": {},
   "source": [
    "In this example we will work with the LTE level populations and **do not demand** statistical equilibrium."
   ]
  },
  {
   "cell_type": "code",
   "execution_count": 6,
   "metadata": {},
   "outputs": [],
   "source": [
    "# Iterate level populations until statistical equilibrium\n",
    "# model.compute_level_populations (False, 1)"
   ]
  },
  {
   "cell_type": "markdown",
   "metadata": {},
   "source": [
    "## Make synthetic observations"
   ]
  },
  {
   "cell_type": "markdown",
   "metadata": {},
   "source": [
    "Now we can make synthetic observations of the model."
   ]
  },
  {
   "cell_type": "code",
   "execution_count": 17,
   "metadata": {},
   "outputs": [
    {
     "name": "stdout",
     "output_type": "stream",
     "text": [
      "Computing spectral discretisation...\n",
      "Computing image...\n"
     ]
    },
    {
     "data": {
      "text/plain": [
       "0"
      ]
     },
     "execution_count": 17,
     "metadata": {},
     "output_type": "execute_result"
    }
   ],
   "source": [
    "fcen = model.lines.lineProducingSpecies[0].linedata.frequency[0]\n",
    "vpix = 1.0e+3   # velocity pixel size [m/s] \n",
    "dd   = vpix * (model.parameters.nfreqs()-1)/2 / magritte.CC\n",
    "fmin = fcen - fcen*dd\n",
    "fmax = fcen + fcen*dd\n",
    "\n",
    "# Ray orthogonal to image plane\n",
    "ray_nr = 0\n",
    "\n",
    "model.compute_spectral_discretisation (fmin, fmax)\n",
    "model.compute_image                   (ray_nr)"
   ]
  },
  {
   "cell_type": "code",
   "execution_count": 18,
   "metadata": {},
   "outputs": [
    {
     "data": {
      "text/plain": [
       "array([[   144,      0],\n",
       "       [   144,      1],\n",
       "       [   144,      2],\n",
       "       ...,\n",
       "       [117945,     48],\n",
       "       [117945,     49],\n",
       "       [117945,     50]])"
      ]
     },
     "execution_count": 18,
     "metadata": {},
     "output_type": "execute_result"
    }
   ],
   "source": [
    "import numpy as np\n",
    "intensity = np.array(model.images[-1].I)\n",
    "np.argwhere(np.isnan(intensity))"
   ]
  },
  {
   "cell_type": "markdown",
   "metadata": {},
   "source": [
    "## Plot observations"
   ]
  },
  {
   "cell_type": "markdown",
   "metadata": {},
   "source": [
    "Plot the resulting channel maps with matplotlib."
   ]
  },
  {
   "cell_type": "code",
   "execution_count": 8,
   "metadata": {},
   "outputs": [
    {
     "ename": "ValueError",
     "evalue": "cannot convert float NaN to integer",
     "output_type": "error",
     "traceback": [
      "\u001b[0;31m---------------------------------------------------------------------------\u001b[0m",
      "\u001b[0;31mValueError\u001b[0m                                Traceback (most recent call last)",
      "Input \u001b[0;32mIn [8]\u001b[0m, in \u001b[0;36m<cell line: 1>\u001b[0;34m()\u001b[0m\n\u001b[0;32m----> 1\u001b[0m \u001b[43mplot\u001b[49m\u001b[38;5;241;43m.\u001b[39;49m\u001b[43mimage_mpl\u001b[49m\u001b[43m(\u001b[49m\n\u001b[1;32m      2\u001b[0m \u001b[43m    \u001b[49m\u001b[43mmodel\u001b[49m\u001b[43m,\u001b[49m\n\u001b[1;32m      3\u001b[0m \u001b[43m    \u001b[49m\u001b[43mimage_nr\u001b[49m\u001b[43m \u001b[49m\u001b[38;5;241;43m=\u001b[39;49m\u001b[43m  \u001b[49m\u001b[38;5;241;43m-\u001b[39;49m\u001b[38;5;241;43m1\u001b[39;49m\u001b[43m,\u001b[49m\n\u001b[1;32m      4\u001b[0m \u001b[43m    \u001b[49m\u001b[43mzoom\u001b[49m\u001b[43m     \u001b[49m\u001b[38;5;241;43m=\u001b[39;49m\u001b[43m \u001b[49m\u001b[38;5;241;43m1.3\u001b[39;49m\u001b[43m,\u001b[49m\n\u001b[1;32m      5\u001b[0m \u001b[43m    \u001b[49m\u001b[43mnpix_x\u001b[49m\u001b[43m   \u001b[49m\u001b[38;5;241;43m=\u001b[39;49m\u001b[43m \u001b[49m\u001b[38;5;241;43m256\u001b[39;49m\u001b[43m,\u001b[49m\n\u001b[1;32m      6\u001b[0m \u001b[43m    \u001b[49m\u001b[43mnpix_y\u001b[49m\u001b[43m   \u001b[49m\u001b[38;5;241;43m=\u001b[39;49m\u001b[43m \u001b[49m\u001b[38;5;241;43m256\u001b[39;49m\u001b[43m,\u001b[49m\n\u001b[1;32m      7\u001b[0m \u001b[43m    \u001b[49m\u001b[43mx_unit\u001b[49m\u001b[43m   \u001b[49m\u001b[38;5;241;43m=\u001b[39;49m\u001b[43m \u001b[49m\u001b[43munits\u001b[49m\u001b[38;5;241;43m.\u001b[39;49m\u001b[43mau\u001b[49m\u001b[43m,\u001b[49m\n\u001b[1;32m      8\u001b[0m \u001b[43m    \u001b[49m\u001b[43mv_unit\u001b[49m\u001b[43m   \u001b[49m\u001b[38;5;241;43m=\u001b[39;49m\u001b[43m \u001b[49m\u001b[43munits\u001b[49m\u001b[38;5;241;43m.\u001b[39;49m\u001b[43mkm\u001b[49m\u001b[43m \u001b[49m\u001b[38;5;241;43m/\u001b[39;49m\u001b[43m \u001b[49m\u001b[43munits\u001b[49m\u001b[38;5;241;43m.\u001b[39;49m\u001b[43ms\u001b[49m\n\u001b[1;32m      9\u001b[0m \u001b[43m)\u001b[49m\n",
      "File \u001b[0;32m~/miniconda3/envs/magritte/lib/python3.9/site-packages/magritte/plot.py:156\u001b[0m, in \u001b[0;36mimage_mpl\u001b[0;34m(model, image_nr, zoom, npix_x, npix_y, x_unit, v_unit, method)\u001b[0m\n\u001b[1;32m    153\u001b[0m log_zs_min \u001b[38;5;241m=\u001b[39m np\u001b[38;5;241m.\u001b[39mmin(log_zs)\n\u001b[1;32m    154\u001b[0m log_zs_max \u001b[38;5;241m=\u001b[39m np\u001b[38;5;241m.\u001b[39mmax(log_zs)\n\u001b[0;32m--> 156\u001b[0m lzmin \u001b[38;5;241m=\u001b[39m \u001b[43mceil\u001b[49m\u001b[43m \u001b[49m\u001b[43m(\u001b[49m\u001b[43mlog_zs_min\u001b[49m\u001b[43m)\u001b[49m\n\u001b[1;32m    157\u001b[0m lzmax \u001b[38;5;241m=\u001b[39m floor(log_zs_max)\n\u001b[1;32m    159\u001b[0m lz_25 \u001b[38;5;241m=\u001b[39m ceil (log_zs_min \u001b[38;5;241m+\u001b[39m \u001b[38;5;241m0.25\u001b[39m\u001b[38;5;241m*\u001b[39m(log_zs_max \u001b[38;5;241m-\u001b[39m log_zs_min))\n",
      "\u001b[0;31mValueError\u001b[0m: cannot convert float NaN to integer"
     ]
    }
   ],
   "source": [
    "plot.image_mpl(\n",
    "    model,\n",
    "    image_nr =  -1,\n",
    "    zoom     = 1.3,\n",
    "    npix_x   = 256,\n",
    "    npix_y   = 256,\n",
    "    x_unit   = units.au,\n",
    "    v_unit   = units.km / units.s\n",
    ")"
   ]
  },
  {
   "cell_type": "markdown",
   "metadata": {},
   "source": [
    "(The plot is only interactive in a live notebook.)"
   ]
  },
  {
   "cell_type": "markdown",
   "metadata": {},
   "source": [
    "Save the image cube in a fits file."
   ]
  },
  {
   "cell_type": "code",
   "execution_count": null,
   "metadata": {},
   "outputs": [],
   "source": [
    "tools.save_fits(model)"
   ]
  },
  {
   "cell_type": "code",
   "execution_count": 20,
   "metadata": {},
   "outputs": [
    {
     "name": "stdout",
     "output_type": "stream",
     "text": [
      "Computing image new...\n",
      "raydir: 1 0 0\n"
     ]
    },
    {
     "ename": "ValueError",
     "evalue": "cannot convert float NaN to integer",
     "output_type": "error",
     "traceback": [
      "\u001b[0;31m---------------------------------------------------------------------------\u001b[0m",
      "\u001b[0;31mValueError\u001b[0m                                Traceback (most recent call last)",
      "Input \u001b[0;32mIn [20]\u001b[0m, in \u001b[0;36m<cell line: 3>\u001b[0;34m()\u001b[0m\n\u001b[1;32m      1\u001b[0m model\u001b[38;5;241m.\u001b[39mcompute_image_new(\u001b[38;5;241m0\u001b[39m)\n\u001b[0;32m----> 3\u001b[0m \u001b[43mplot\u001b[49m\u001b[38;5;241;43m.\u001b[39;49m\u001b[43mimage_mpl\u001b[49m\u001b[43m(\u001b[49m\n\u001b[1;32m      4\u001b[0m \u001b[43m    \u001b[49m\u001b[43mmodel\u001b[49m\u001b[43m,\u001b[49m\n\u001b[1;32m      5\u001b[0m \u001b[43m    \u001b[49m\u001b[43mimage_nr\u001b[49m\u001b[43m \u001b[49m\u001b[38;5;241;43m=\u001b[39;49m\u001b[43m  \u001b[49m\u001b[38;5;241;43m-\u001b[39;49m\u001b[38;5;241;43m1\u001b[39;49m\u001b[43m,\u001b[49m\n\u001b[1;32m      6\u001b[0m \u001b[43m    \u001b[49m\u001b[43mzoom\u001b[49m\u001b[43m     \u001b[49m\u001b[38;5;241;43m=\u001b[39;49m\u001b[43m \u001b[49m\u001b[38;5;241;43m1.3\u001b[39;49m\u001b[43m,\u001b[49m\n\u001b[1;32m      7\u001b[0m \u001b[43m    \u001b[49m\u001b[43mnpix_x\u001b[49m\u001b[43m   \u001b[49m\u001b[38;5;241;43m=\u001b[39;49m\u001b[43m \u001b[49m\u001b[38;5;241;43m256\u001b[39;49m\u001b[43m,\u001b[49m\n\u001b[1;32m      8\u001b[0m \u001b[43m    \u001b[49m\u001b[43mnpix_y\u001b[49m\u001b[43m   \u001b[49m\u001b[38;5;241;43m=\u001b[39;49m\u001b[43m \u001b[49m\u001b[38;5;241;43m256\u001b[39;49m\u001b[43m,\u001b[49m\n\u001b[1;32m      9\u001b[0m \u001b[43m    \u001b[49m\u001b[43mx_unit\u001b[49m\u001b[43m   \u001b[49m\u001b[38;5;241;43m=\u001b[39;49m\u001b[43m \u001b[49m\u001b[43munits\u001b[49m\u001b[38;5;241;43m.\u001b[39;49m\u001b[43mau\u001b[49m\u001b[43m,\u001b[49m\n\u001b[1;32m     10\u001b[0m \u001b[43m    \u001b[49m\u001b[43mv_unit\u001b[49m\u001b[43m   \u001b[49m\u001b[38;5;241;43m=\u001b[39;49m\u001b[43m \u001b[49m\u001b[43munits\u001b[49m\u001b[38;5;241;43m.\u001b[39;49m\u001b[43mkm\u001b[49m\u001b[43m \u001b[49m\u001b[38;5;241;43m/\u001b[39;49m\u001b[43m \u001b[49m\u001b[43munits\u001b[49m\u001b[38;5;241;43m.\u001b[39;49m\u001b[43ms\u001b[49m\u001b[43m)\u001b[49m\n",
      "File \u001b[0;32m~/miniconda3/envs/magritte/lib/python3.9/site-packages/magritte/plot.py:156\u001b[0m, in \u001b[0;36mimage_mpl\u001b[0;34m(model, image_nr, zoom, npix_x, npix_y, x_unit, v_unit, method)\u001b[0m\n\u001b[1;32m    153\u001b[0m log_zs_min \u001b[38;5;241m=\u001b[39m np\u001b[38;5;241m.\u001b[39mmin(log_zs)\n\u001b[1;32m    154\u001b[0m log_zs_max \u001b[38;5;241m=\u001b[39m np\u001b[38;5;241m.\u001b[39mmax(log_zs)\n\u001b[0;32m--> 156\u001b[0m lzmin \u001b[38;5;241m=\u001b[39m \u001b[43mceil\u001b[49m\u001b[43m \u001b[49m\u001b[43m(\u001b[49m\u001b[43mlog_zs_min\u001b[49m\u001b[43m)\u001b[49m\n\u001b[1;32m    157\u001b[0m lzmax \u001b[38;5;241m=\u001b[39m floor(log_zs_max)\n\u001b[1;32m    159\u001b[0m lz_25 \u001b[38;5;241m=\u001b[39m ceil (log_zs_min \u001b[38;5;241m+\u001b[39m \u001b[38;5;241m0.25\u001b[39m\u001b[38;5;241m*\u001b[39m(log_zs_max \u001b[38;5;241m-\u001b[39m log_zs_min))\n",
      "\u001b[0;31mValueError\u001b[0m: cannot convert float NaN to integer"
     ]
    }
   ],
   "source": [
    "model.compute_image_new(0)\n",
    "\n",
    "plot.image_mpl(\n",
    "    model,\n",
    "    image_nr =  -1,\n",
    "    zoom     = 1.3,\n",
    "    npix_x   = 256,\n",
    "    npix_y   = 256,\n",
    "    x_unit   = units.au,\n",
    "    v_unit   = units.km / units.s)"
   ]
  },
  {
   "cell_type": "code",
   "execution_count": 21,
   "metadata": {},
   "outputs": [],
   "source": [
    "import numpy as np\n",
    "intensity = np.array(model.images[-1].I)"
   ]
  },
  {
   "cell_type": "code",
   "execution_count": 22,
   "metadata": {},
   "outputs": [
    {
     "name": "stdout",
     "output_type": "stream",
     "text": [
      "[[3.41524205e-18 3.41524987e-18 3.41525597e-18 ... 3.41560460e-18\n",
      "  3.41561095e-18 3.41561877e-18]\n",
      " [3.41524205e-18 3.41524987e-18 3.41525597e-18 ... 3.41560460e-18\n",
      "  3.41561095e-18 3.41561877e-18]\n",
      " [3.41523838e-18 3.41524596e-18 3.41525230e-18 ... 3.41560092e-18\n",
      "  3.41560801e-18 3.41561510e-18]\n",
      " ...\n",
      " [3.41520973e-18 3.41521558e-18 3.41522365e-18 ... 3.41557223e-18\n",
      "  3.41557858e-18 3.41558641e-18]\n",
      " [3.41520789e-18 3.41521374e-18 3.41522180e-18 ... 3.41557038e-18\n",
      "  3.41557673e-18 3.41558456e-18]\n",
      " [3.41520789e-18 3.41521374e-18 3.41522180e-18 ... 3.41557038e-18\n",
      "  3.41557673e-18 3.41558456e-18]]\n"
     ]
    }
   ],
   "source": [
    "print(intensity)"
   ]
  },
  {
   "cell_type": "code",
   "execution_count": 23,
   "metadata": {},
   "outputs": [
    {
     "data": {
      "text/plain": [
       "array([[32382],\n",
       "       [32383],\n",
       "       [32384],\n",
       "       [32385],\n",
       "       [32638],\n",
       "       [32639],\n",
       "       [32640],\n",
       "       [32641],\n",
       "       [32894],\n",
       "       [32895],\n",
       "       [32896],\n",
       "       [32897],\n",
       "       [33150],\n",
       "       [33151],\n",
       "       [33152],\n",
       "       [33153]])"
      ]
     },
     "execution_count": 23,
     "metadata": {},
     "output_type": "execute_result"
    }
   ],
   "source": [
    "np.argwhere(np.isnan(intensity[:,0]))\n"
   ]
  },
  {
   "cell_type": "code",
   "execution_count": null,
   "metadata": {},
   "outputs": [],
   "source": []
  }
 ],
 "metadata": {
  "kernelspec": {
   "display_name": "Python 3 (ipykernel)",
   "language": "python",
   "name": "python3"
  },
  "language_info": {
   "codemirror_mode": {
    "name": "ipython",
    "version": 3
   },
   "file_extension": ".py",
   "mimetype": "text/x-python",
   "name": "python",
   "nbconvert_exporter": "python",
   "pygments_lexer": "ipython3",
   "version": "3.9.15"
  },
  "widgets": {
   "application/vnd.jupyter.widget-state+json": {
    "state": {},
    "version_major": 2,
    "version_minor": 0
   }
  }
 },
 "nbformat": 4,
 "nbformat_minor": 4
}
